{
 "cells": [
  {
   "cell_type": "code",
   "execution_count": 5,
   "id": "643bb34a-79bf-4680-9064-4472e98bd0ac",
   "metadata": {},
   "outputs": [
    {
     "name": "stdout",
     "output_type": "stream",
     "text": [
      "9\n",
      "8\n",
      "7\n",
      "6\n",
      "5\n",
      "4\n",
      "3\n",
      "2\n",
      "1\n"
     ]
    }
   ],
   "source": [
    "def print_words_reversed(file_path):\n",
    "    with open(file_path, 'r') as file:\n",
    "        stack = []\n",
    "        for line in file:\n",
    "            words = line.split()\n",
    "            stack.extend(words)\n",
    "        while stack:\n",
    "            print(stack.pop())\n",
    "\n",
    "\n",
    "file_path = 'aisd10.04.2025cw_text.txt'  \n",
    "print_words_reversed(file_path)\n"
   ]
  },
  {
   "cell_type": "code",
   "execution_count": 6,
   "id": "2e025101-b6d6-4653-8c9c-720bddf26db1",
   "metadata": {},
   "outputs": [
    {
     "ename": "SyntaxError",
     "evalue": "expected 'else' after 'if' expression (2980516533.py, line 7)",
     "output_type": "error",
     "traceback": [
      "\u001b[1;36m  Cell \u001b[1;32mIn[6], line 7\u001b[1;36m\u001b[0m\n\u001b[1;33m    result[i] = stack[-1] + 1 if stack\u001b[0m\n\u001b[1;37m                ^\u001b[0m\n\u001b[1;31mSyntaxError\u001b[0m\u001b[1;31m:\u001b[0m expected 'else' after 'if' expression\n"
     ]
    }
   ],
   "source": [
    "def nearest_smallelem(arr):\n",
    "    result = [0] * len(arr)\n",
    "    stack = []\n",
    "    for i in range(len(arr)):\n",
    "        while stack and arr[stack[-1]] >= arr[i]:\n",
    "            stack.pop()\n",
    "        result[i] = stack[-1] + 1 if stack else 0\n",
    "        stack.append(i)\n",
    "    return result\n",
    "\n",
    "arr = [3, 7, 8, 4]\n",
    "result = nearest_smallelem(arr)\n",
    "print(f\"Индексы ближайших меньших элементов внутри списков: {result}\")\n"
   ]
  },
  {
   "cell_type": "code",
   "execution_count": null,
   "id": "726ab129-02f3-42c8-af1a-daf671106476",
   "metadata": {},
   "outputs": [],
   "source": []
  }
 ],
 "metadata": {
  "kernelspec": {
   "display_name": "Python 3 (ipykernel)",
   "language": "python",
   "name": "python3"
  },
  "language_info": {
   "codemirror_mode": {
    "name": "ipython",
    "version": 3
   },
   "file_extension": ".py",
   "mimetype": "text/x-python",
   "name": "python",
   "nbconvert_exporter": "python",
   "pygments_lexer": "ipython3",
   "version": "3.12.7"
  }
 },
 "nbformat": 4,
 "nbformat_minor": 5
}
