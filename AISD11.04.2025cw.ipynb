{
 "cells": [
  {
   "cell_type": "code",
   "execution_count": 5,
   "id": "fba7a9ed-1c42-4e6d-8e02-3de48ca77d40",
   "metadata": {},
   "outputs": [
    {
     "name": "stdout",
     "output_type": "stream",
     "text": [
      "Минимальное количество удалений: 5\n"
     ]
    }
   ],
   "source": [
    "def min_removals_to_valid_psp(brackets):\n",
    "    open_count = 0\n",
    "    removals = 0\n",
    "\n",
    "    for char in brackets:\n",
    "        if char == '(':\n",
    "            open_count += 1\n",
    "        elif char == ')':\n",
    "            if open_count > 0:\n",
    "                open_count -= 1\n",
    "            else:\n",
    "                removals += 1\n",
    "\n",
    "    removals += open_count\n",
    "    return removals\n",
    "\n",
    "\n",
    "brackets = \"())()())()))(()\"\n",
    "result = min_removals_to_valid_psp(brackets)\n",
    "print(f\"Минимальное количество удалений: {result}\")\n"
   ]
  },
  {
   "cell_type": "code",
   "execution_count": 6,
   "id": "7d59ea32-afcf-47ca-90a9-db3b5bd544fa",
   "metadata": {},
   "outputs": [
    {
     "name": "stdout",
     "output_type": "stream",
     "text": [
      "1\n",
      "2\n",
      "3\n",
      "4\n"
     ]
    }
   ],
   "source": [
    "class QueueWithTwoStacks:\n",
    "    def __init__(self):\n",
    "        self.stack_in = []\n",
    "        self.stack_out = []\n",
    "\n",
    "    def enqueue(self, value):\n",
    "        self.stack_in.append(value)\n",
    "\n",
    "    def dequeue(self):\n",
    "        if not self.stack_out:\n",
    "            while self.stack_in:\n",
    "                self.stack_out.append(self.stack_in.pop())\n",
    "        if not self.stack_out:\n",
    "            raise IndexError(\"Очередь пуста\")\n",
    "        return self.stack_out.pop()\n",
    "\n",
    "queue = QueueWithTwoStacks()\n",
    "queue.enqueue(1)\n",
    "queue.enqueue(2)\n",
    "queue.enqueue(3)\n",
    "print(queue.dequeue()) \n",
    "print(queue.dequeue())  \n",
    "queue.enqueue(4)\n",
    "print(queue.dequeue())  \n",
    "print(queue.dequeue())  \n"
   ]
  },
  {
   "cell_type": "code",
   "execution_count": null,
   "id": "e01cb641-9dd0-4842-aabe-793a49d42f33",
   "metadata": {},
   "outputs": [],
   "source": []
  }
 ],
 "metadata": {
  "kernelspec": {
   "display_name": "Python 3 (ipykernel)",
   "language": "python",
   "name": "python3"
  },
  "language_info": {
   "codemirror_mode": {
    "name": "ipython",
    "version": 3
   },
   "file_extension": ".py",
   "mimetype": "text/x-python",
   "name": "python",
   "nbconvert_exporter": "python",
   "pygments_lexer": "ipython3",
   "version": "3.12.7"
  }
 },
 "nbformat": 4,
 "nbformat_minor": 5
}
