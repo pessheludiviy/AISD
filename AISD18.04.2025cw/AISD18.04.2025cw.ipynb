{
 "cells": [
  {
   "cell_type": "code",
   "execution_count": 4,
   "id": "4735d1a9-1b64-40ff-a6ee-97c46c5961eb",
   "metadata": {},
   "outputs": [
    {
     "name": "stdout",
     "output_type": "stream",
     "text": [
      "Объединённая очередь: [1, 2, 3, 4, 6, 7, 9, 10]\n"
     ]
    }
   ],
   "source": [
    "from collections import deque\n",
    "import time\n",
    "\n",
    "def merge_sorted_queues(Q1, Q2):\n",
    "    Q = deque() \n",
    "\n",
    "    while Q1 and Q2:\n",
    "        if Q1[0] < Q2[0]:\n",
    "            Q.append(Q1.popleft())  \n",
    "        else:\n",
    "            Q.append(Q2.popleft())  \n",
    "\n",
    "   \n",
    "    Q.extend(Q1)\n",
    "    Q.extend(Q2)\n",
    "\n",
    "    return list(Q)  \n",
    "\n",
    "# Пример использования:\n",
    "Q1 = deque([1, 4, 6, 9])\n",
    "Q2 = deque([2, 3, 7, 10])\n",
    "\n",
    "print(f\"Объединённая очередь: {merge_sorted_queues(Q1, Q2)}\")  \n"
   ]
  },
  {
   "cell_type": "code",
   "execution_count": 5,
   "id": "a80afff1-0bbe-4760-afe4-db44eceedd66",
   "metadata": {},
   "outputs": [
    {
     "name": "stdout",
     "output_type": "stream",
     "text": [
      "1\n",
      "2\n",
      "3\n",
      "4\n"
     ]
    }
   ],
   "source": [
    "class QueueWithTwoStacks:\n",
    "    def __init__(self):\n",
    "        self.stack_in = []  \n",
    "        self.stack_out = [] \n",
    "\n",
    "    def enqueue(self, value):\n",
    "        self.stack_in.append(value)  # O(1)\n",
    "\n",
    "    def dequeue(self):\n",
    "        if not self.stack_out: \n",
    "            if not self.stack_in:  \n",
    "                raise IndexError(\"Очередь пуста\")\n",
    "            while self.stack_in:\n",
    "                self.stack_out.append(self.stack_in.pop())  \n",
    "\n",
    "        return self.stack_out.pop()  \n",
    "\n",
    "# Пример использования:\n",
    "queue = QueueWithTwoStacks()\n",
    "queue.enqueue(1)\n",
    "queue.enqueue(2)\n",
    "queue.enqueue(3)\n",
    "print(queue.dequeue()) \n",
    "print(queue.dequeue())  \n",
    "queue.enqueue(4)\n",
    "print(queue.dequeue())  \n",
    "print(queue.dequeue()) \n"
   ]
  },
  {
   "cell_type": "code",
   "execution_count": 6,
   "id": "990eec56-5c65-4422-b01d-12d85e54e816",
   "metadata": {},
   "outputs": [
    {
     "name": "stdout",
     "output_type": "stream",
     "text": [
      "Среднее время выполнения объединения очередей: [(10, 0.0), (100, 0.0), (1000, 0.0002000570297241211), (10000, 0.002159523963928223)]\n",
      "Пояснение: первое число в скобках - кол-во элементов в списке, второе - время выполнения в мс\n"
     ]
    }
   ],
   "source": [
    "def measure_merge_time():\n",
    "    sizes = [10, 100, 1000, 10000]  \n",
    "    results = []\n",
    "\n",
    "    for size in sizes:\n",
    "        Q1 = deque(sorted([i for i in range(1, size, 2)]))\n",
    "        Q2 = deque(sorted([i for i in range(2, size, 2)]))\n",
    "        total_time = 0\n",
    "        iterations = 10  \n",
    "\n",
    "        for _ in range(iterations):\n",
    "            start_time = time.time()\n",
    "            merge_sorted_queues(Q1.copy(), Q2.copy())\n",
    "            total_time += time.time() - start_time\n",
    "\n",
    "        average_time = total_time / iterations\n",
    "        results.append((size, average_time))\n",
    "\n",
    "    return results\n",
    "\n",
    "\n",
    "execution_results = measure_merge_time()\n",
    "print(\"Среднее время выполнения объединения очередей:\", execution_results)\n",
    "print(\"Пояснение: первое число в скобках - кол-во элементов в списке | второе - время выполнения в мс\")"
   ]
  },
  {
   "cell_type": "code",
   "execution_count": null,
   "id": "4c45ff1a-979f-4d05-a6e1-e23b8f91da9f",
   "metadata": {},
   "outputs": [],
   "source": []
  }
 ],
 "metadata": {
  "kernelspec": {
   "display_name": "cuda-gpt",
   "language": "python",
   "name": "cuda"
  },
  "language_info": {
   "codemirror_mode": {
    "name": "ipython",
    "version": 3
   },
   "file_extension": ".py",
   "mimetype": "text/x-python",
   "name": "python",
   "nbconvert_exporter": "python",
   "pygments_lexer": "ipython3",
   "version": "3.12.7"
  }
 },
 "nbformat": 4,
 "nbformat_minor": 5
}
