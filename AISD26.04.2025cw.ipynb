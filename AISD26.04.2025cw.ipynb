{
 "cells": [
  {
   "cell_type": "code",
   "execution_count": 9,
   "id": "0a0cd734-c9bd-434f-9e54-f396060ba8fb",
   "metadata": {},
   "outputs": [
    {
     "name": "stdout",
     "output_type": "stream",
     "text": [
      "Среднее время выполнения поиска пропущенного числа: [(1000, 0.0), (5000, 0.0), (10000, 0.0001), (50000, 0.0004)]\n"
     ]
    }
   ],
   "source": [
    "import time\n",
    "import random\n",
    "\n",
    "def find_missing_number(arr, n):\n",
    "    expected_sum = n * (n + 1) // 2  \n",
    "    actual_sum = sum(arr)  \n",
    "    return expected_sum - actual_sum \n",
    "\n",
    "# Замер времени работы\n",
    "def measure_time_missing():\n",
    "    sizes = [1000, 5000, 10000, 50000]\n",
    "    results = []\n",
    "\n",
    "    for n in sizes:\n",
    "        arr = list(range(n + 1))\n",
    "        missing = random.randint(0, n)\n",
    "        arr.remove(missing)  \n",
    "        total_time = 0\n",
    "        iterations = 100\n",
    "\n",
    "        for _ in range(iterations):\n",
    "            start_time = time.time()\n",
    "            find_missing_number(arr, n)\n",
    "            total_time += time.time() - start_time\n",
    "\n",
    "        avg_time = total_time / iterations\n",
    "        avg_time = round(avg_time, 4)\n",
    "        results.append((n, avg_time))\n",
    "\n",
    "    return results\n",
    "\n",
    "# Запуск замеров\n",
    "execution_results_missing = measure_time_missing()\n",
    "print(\"Среднее время выполнения поиска пропущенного числа:\", execution_results_missing)\n"
   ]
  },
  {
   "cell_type": "code",
   "execution_count": 10,
   "id": "46dbb5a7-1e9d-4d6a-b877-f5664ee44ed6",
   "metadata": {},
   "outputs": [
    {
     "name": "stdout",
     "output_type": "stream",
     "text": [
      "Среднее время выполнения поиска точки перегиба: [(1000, 0.0), (5000, 0.0), (10000, 0.0), (50000, 0.0)]\n",
      "Пояснение: первое число в скобках - размер | второе - время выполнения в секундах\n"
     ]
    }
   ],
   "source": [
    "def find_peak_index(arr):\n",
    "    left, right = 0, len(arr) - 1\n",
    "\n",
    "    while left < right:\n",
    "        mid = (left + right) // 2\n",
    "\n",
    "        if arr[mid] > arr[mid + 1]:\n",
    "            left = mid + 1 \n",
    "        else:\n",
    "            right = mid  \n",
    "\n",
    "    return left \n",
    "\n",
    "# Замер времени работы\n",
    "def measure_time_peak():\n",
    "    sizes = [1000, 5000, 10000, 50000]\n",
    "    results = []\n",
    "\n",
    "    for size in sizes:\n",
    "        decreasing = sorted(random.sample(range(size * 2), size // 2), reverse=True)\n",
    "        increasing = sorted(random.sample(range(size * 2), size // 2))\n",
    "        arr = decreasing + increasing \n",
    "        total_time = 0\n",
    "        iterations = 100\n",
    "\n",
    "        for _ in range(iterations):\n",
    "            start_time = time.time()\n",
    "            find_peak_index(arr)\n",
    "            total_time += time.time() - start_time\n",
    "\n",
    "        avg_time = total_time / iterations\n",
    "        avg_time = round(avg_time, 4)\n",
    "        results.append((size, avg_time))\n",
    "\n",
    "    return results\n",
    "\n",
    "# Запуск замеров\n",
    "execution_results_peak = measure_time_peak()\n",
    "print(\"Среднее время выполнения поиска точки перегиба:\", execution_results_peak)\n",
    "print(\"Пояснение: первое число в скобках - размер | второе - время выполнения в секундах\")"
   ]
  },
  {
   "cell_type": "code",
   "execution_count": null,
   "id": "b6f4dd52-1e9c-434d-a195-6f7c3eaac504",
   "metadata": {},
   "outputs": [],
   "source": []
  }
 ],
 "metadata": {
  "kernelspec": {
   "display_name": "cuda-gpt",
   "language": "python",
   "name": "cuda"
  },
  "language_info": {
   "codemirror_mode": {
    "name": "ipython",
    "version": 3
   },
   "file_extension": ".py",
   "mimetype": "text/x-python",
   "name": "python",
   "nbconvert_exporter": "python",
   "pygments_lexer": "ipython3",
   "version": "3.12.7"
  }
 },
 "nbformat": 4,
 "nbformat_minor": 5
}
